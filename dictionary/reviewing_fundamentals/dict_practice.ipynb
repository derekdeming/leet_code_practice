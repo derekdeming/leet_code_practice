{
 "cells": [
  {
   "cell_type": "code",
   "execution_count": 4,
   "metadata": {},
   "outputs": [
    {
     "name": "stdout",
     "output_type": "stream",
     "text": [
      "a 1\n",
      "b 2\n",
      "c 3\n",
      "d 4\n"
     ]
    }
   ],
   "source": [
    "# traversing through a dictionary\n",
    "\n",
    "myDict = {'a': 1, 'b': 2, 'c': 3, 'd': 4}\n",
    "\n",
    "def traverse_dict(dict):\n",
    "    for key in dict:\n",
    "        print(key, dict[key])\n",
    "\n",
    "traverse_dict(myDict)\n",
    "\n",
    "# time complexity: O(n) since we loop through the dictionary once\n",
    "# space complexity: O(1) since we don't use any additional data structures"
   ]
  },
  {
   "cell_type": "code",
   "execution_count": 3,
   "metadata": {},
   "outputs": [
    {
     "name": "stdout",
     "output_type": "stream",
     "text": [
      "('c', 3)\n"
     ]
    }
   ],
   "source": [
    "# searching through a dictionary\n",
    "\n",
    "myDict = {'a': 1, 'b': 2, 'c': 3, 'd': 4}\n",
    "\n",
    "def searchDict(dict, target):\n",
    "    for key in dict:\n",
    "        if myDict[key] == target:\n",
    "            return key, target\n",
    "    return 'Value is not in the dictionary'\n",
    "\n",
    "print(searchDict(myDict, 3))\n",
    "\n",
    "# time complexity: O(n) where n is the number of key-value pairs in the dictionary\n",
    "# space complexity: O(1) since we are not using any additional data structures to store the key-value pairs"
   ]
  },
  {
   "cell_type": "code",
   "execution_count": 9,
   "metadata": {},
   "outputs": [
    {
     "name": "stdout",
     "output_type": "stream",
     "text": [
      "None\n",
      "{}\n"
     ]
    }
   ],
   "source": [
    "# deleting from a dictionary\n",
    "\n",
    "myDict = {'a': 1, 'b': 2, 'c': 3, 'd': 4}\n",
    "\n",
    "# del myDict['a'] - time complexity: O(1) since we are deleting a specific key-value pair\n",
    "\n",
    "# removed = myDict.pop('a') # time complexity: O(1) since we are deleting a specific key-value pair\n",
    "# removed = myDict.popitem() # time complexity: O(1) since we are deleting the last key-value pair\n",
    "cleared = myDict.clear() # time complexity: O(n) since we are deleting all key-value pairs\n",
    "print(cleared)\n",
    "print(myDict)"
   ]
  },
  {
   "cell_type": "code",
   "execution_count": null,
   "metadata": {},
   "outputs": [],
   "source": [
    "# dictionary methods \n",
    "\n",
    "# .clear() - removes all key-value pairs from the dictionary\n",
    "\n",
    "# .copy() - returns a shallow copy of the dictionary\n",
    "\n",
    "# .fromkeys() - returns a dictionary with the specified keys and values\n",
    "# syntax: dict.fromkeys(keys, value)\n",
    "\n",
    "# .get() - returns the value of the specified key\n",
    "# syntax: dict.get(key, value (default=None))\n",
    "\n",
    "# .items() - returns a list containing a tuple for each key value pair\n",
    "\n",
    "# .keys() - returns a list containing the dictionary's keys\n",
    "\n",
    "#  setdefault() - returns the value of the specified key. If the key does not exist: insert the key, with the specified value\n",
    "#  syntax: dict.setdefault(key, default_value)\n",
    "\n",
    "# .pop() - removes the element with the specified key\n",
    "# syntax: dict.pop(key, default_value)\n",
    "\n",
    "# .values() - returns a list of all the values in the dictionary\n",
    "\n",
    "# .update() - updates the dictionary with the specified key-value pairs\n",
    "# syntax: dict.update(other_dict or tuple)"
   ]
  },
  {
   "cell_type": "code",
   "execution_count": 12,
   "metadata": {},
   "outputs": [
    {
     "data": {
      "text/plain": [
       "5"
      ]
     },
     "execution_count": 12,
     "metadata": {},
     "output_type": "execute_result"
    }
   ],
   "source": [
    "# dictionary operations \n",
    "\n",
    "my_dict = {\n",
    "    3: 'three', \n",
    "    1: 'one',\n",
    "    2: 'two',\n",
    "    4: 'four',\n",
    "    5: 'five'\n",
    "}\n",
    "\n",
    "# print('six' not in my_dict.values())\n",
    "# len(my_dict) -- # returns the number of key-value pairs in the dictionary\n",
    "# all(my_dict) -- # returns True if all keys of the dictionary are true (or if the dictionary is empty)\n",
    "# sorted(my_dict) -- # returns a new sorted list of keys in the dictionary"
   ]
  },
  {
   "cell_type": "code",
   "execution_count": null,
   "metadata": {},
   "outputs": [],
   "source": [
    "# dictionary vs list \n",
    "\n",
    "# dictionary:\n",
    "'''\n",
    "unordered\n",
    "access via keys \n",
    "collection of key value pairs \n",
    "perferred when you have unique key values \n",
    "no duplicate members \n",
    "'''\n",
    "\n",
    "# list:\n",
    "'''\n",
    "ordered \n",
    "access via index\n",
    "collection of elements\n",
    "preferred when you have ordered data \n",
    "allow duplicate members\n",
    "'''"
   ]
  },
  {
   "cell_type": "code",
   "execution_count": null,
   "metadata": {},
   "outputs": [],
   "source": [
    "# time complexity and space complexity of dictionary operations\n",
    "# creating a dictionary: O(len(dict)) and O(n)\n",
    "# inserting a value into a dictionary: O(1)/O(n) and O(1)\n",
    "# traversing a given dictionary: O(n) and O(1)\n",
    "# accessing a given cell: O(1) and O(1)\n",
    "# deleting a value from a dictionary: O(1) and O(1)\n",
    "# searching a given value: O(n) and O(1)\n"
   ]
  },
  {
   "cell_type": "code",
   "execution_count": 15,
   "metadata": {},
   "outputs": [
    {
     "name": "stdout",
     "output_type": "stream",
     "text": [
      "{'New York City': 88, 'Los Angeles': 46, 'Chicago': 65, 'Houston': 11, 'Philadelphia': 83}\n",
      "{'New York City': 88, 'Philadelphia': 83}\n"
     ]
    }
   ],
   "source": [
    "# Dictionary comprehension\n",
    "\n",
    "# syntax: {new_key:new_value for item in list or dictionary (iteratable)}\n",
    "# new_dict = {new_key:new_value for (key, value) in dict.items()}\n",
    "# new_dict = {new_key:new_value for (key, value) in dict.items() if condition}\n",
    "\n",
    "# example 1\n",
    "import random\n",
    "city_names = ['New York City', 'Los Angeles', 'Chicago', 'Houston', 'Philadelphia']\n",
    "city_temps = {city: random.randint(0, 100) for city in city_names}\n",
    "print(city_temps)\n",
    "\n",
    "# example 2 based on example 1\n",
    "# conditional dict creation \n",
    "\n",
    "city_temp_hot = {city: temp for (city, temp) in city_temps.items() if temp >= 70}\n",
    "print(city_temp_hot)\n"
   ]
  },
  {
   "cell_type": "code",
   "execution_count": null,
   "metadata": {},
   "outputs": [],
   "source": []
  }
 ],
 "metadata": {
  "kernelspec": {
   "display_name": "myenv",
   "language": "python",
   "name": "python3"
  },
  "language_info": {
   "codemirror_mode": {
    "name": "ipython",
    "version": 3
   },
   "file_extension": ".py",
   "mimetype": "text/x-python",
   "name": "python",
   "nbconvert_exporter": "python",
   "pygments_lexer": "ipython3",
   "version": "3.10.11"
  },
  "orig_nbformat": 4
 },
 "nbformat": 4,
 "nbformat_minor": 2
}

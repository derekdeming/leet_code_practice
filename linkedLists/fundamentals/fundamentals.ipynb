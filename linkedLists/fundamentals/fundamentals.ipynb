{
 "cells": [
  {
   "cell_type": "code",
   "execution_count": 4,
   "metadata": {},
   "outputs": [
    {
     "name": "stdout",
     "output_type": "stream",
     "text": [
      "10\n"
     ]
    }
   ],
   "source": [
    "# node class constructor \n",
    "\n",
    "class Node: \n",
    "    def __init__(self, value):\n",
    "        self.value = value \n",
    "        self.next = None\n",
    "\n",
    "# new_node = Node(10)\n",
    "\n",
    "# print(new_node.value)\n",
    "\n",
    "# Time and space complexity = O(1)"
   ]
  },
  {
   "cell_type": "code",
   "execution_count": 14,
   "metadata": {},
   "outputs": [
    {
     "name": "stdout",
     "output_type": "stream",
     "text": [
      "<__main__.LinkedList object at 0x00000299A4F7EFB0>\n",
      "<__main__.Node object at 0x00000299A4F7F4C0>\n",
      "10\n",
      "0\n"
     ]
    }
   ],
   "source": [
    "# Linked list constructor - creation of singly linked list \n",
    "\n",
    "class LinkedList: \n",
    "    def __init__(self, value):\n",
    "        new_node = Node(value) # O(1)\n",
    "        self.head = new_node # O(1)\n",
    "        self.tail = new_node # O(1)\n",
    "        self.length = 1  # O(1)\n",
    "\n",
    "new_linked_list = LinkedList(10)\n",
    "print(new_linked_list)\n",
    "print(new_linked_list.head)\n",
    "print(new_linked_list.head.value)\n",
    "\n",
    "# create linked list without value in it -- simply the creation of a linkedlist with head and tail pointing at None \n",
    "class _LinkedList: \n",
    "    def __init__(self):\n",
    "        self.head = None\n",
    "        self.tail = None\n",
    "        self.length = 0\n",
    "\n",
    "linked_list_instantiated = _LinkedList()\n",
    "print(linked_list_instantiated.length)"
   ]
  },
  {
   "cell_type": "code",
   "execution_count": null,
   "metadata": {},
   "outputs": [],
   "source": [
    "# insertion in singly linked list in memory \n",
    "'''\n",
    "We can insert at the beginning of a listed list, after a node in the middle of a linked list, or at the end of a linked list \n",
    "'''"
   ]
  },
  {
   "cell_type": "code",
   "execution_count": 20,
   "metadata": {},
   "outputs": [
    {
     "name": "stdout",
     "output_type": "stream",
     "text": [
      "10 -> 20 -> 30\n"
     ]
    }
   ],
   "source": [
    "# insert an element at the end of singly linked list - append method \n",
    "\n",
    "#  pointing at 10       tail (pointing at 40)\n",
    "#  HEAD --> 10 --> 20 --> 30 --> 40 --> None \n",
    "#  We will update 40 --> None to point at 50 --> None and then update Tail to point at 50 \n",
    "\n",
    "# edge cases: if the linked list is None then making sure each pointer will point to a newly appended node \n",
    "\n",
    "class LinkedList:\n",
    "    def __init__(self): \n",
    "        self.head = None \n",
    "        self.tail = None \n",
    "        self.length = 0\n",
    "\n",
    "    def __str__(self):\n",
    "        temp_node = self.head\n",
    "        result = ''\n",
    "        while temp_node is not None: \n",
    "            result += str(temp_node.value)\n",
    "            if temp_node.next is not None: \n",
    "                result += ' -> ' \n",
    "            temp_node = temp_node.next\n",
    "        return result\n",
    "\n",
    "    def append(self, value):\n",
    "        new_node = Node(value)  # O(1)\n",
    "        if self.head is None:   # O(1)\n",
    "            self.head = new_node   # O(1)\n",
    "            self.tail = new_node   # O(1)\n",
    "        else: \n",
    "            self.tail.next = new_node   # O(1)\n",
    "            self.tail = new_node   # O(1)\n",
    "        self.length += 1   # O(1)\n",
    "\n",
    "\n",
    "        \n",
    "new_linked_list = LinkedList()\n",
    "new_linked_list.append(10)\n",
    "new_linked_list.append(20)\n",
    "new_linked_list.append(30)\n",
    "print(new_linked_list)\n",
    "# print(new_linked_list.head.value)\n",
    "# print(new_linked_list.tail.value)\n",
    "\n",
    "# Time complexity for append method is O(1)\n",
    "# Space complexity for append method is O(1)"
   ]
  },
  {
   "cell_type": "code",
   "execution_count": 18,
   "metadata": {},
   "outputs": [
    {
     "name": "stdout",
     "output_type": "stream",
     "text": [
      "Person Derek - 26\n"
     ]
    }
   ],
   "source": [
    "#  Print out linked list - __str__ \n",
    "\n",
    "class Person: \n",
    "    def __init__(self, name, age):\n",
    "        self.name = name \n",
    "        self.age = age\n",
    "    \n",
    "    def __str__(self):\n",
    "        return f'Person {self.name} - {self.age}'\n",
    "\n",
    "new_person = Person('Derek', 26)\n",
    "print(new_person)"
   ]
  },
  {
   "cell_type": "code",
   "execution_count": 23,
   "metadata": {},
   "outputs": [
    {
     "name": "stdout",
     "output_type": "stream",
     "text": [
      "5 -> 10 -> 20 -> 30\n"
     ]
    }
   ],
   "source": [
    "# insert an element at the beginning of a singly linked list - prepend method \n",
    "\n",
    "class LinkedList:\n",
    "    def __init__(self): \n",
    "        self.head = None \n",
    "        self.tail = None \n",
    "        self.length = 0\n",
    "\n",
    "    def __str__(self):\n",
    "        temp_node = self.head\n",
    "        result = ''\n",
    "        while temp_node is not None: \n",
    "            result += str(temp_node.value)\n",
    "            if temp_node.next is not None: \n",
    "                result += ' -> ' \n",
    "            temp_node = temp_node.next\n",
    "        return result\n",
    "\n",
    "    def append(self, value):\n",
    "        new_node = Node(value)  # O(1)\n",
    "        if self.head is None:   # O(1)\n",
    "            self.head = new_node   # O(1)\n",
    "            self.tail = new_node   # O(1)\n",
    "        else: \n",
    "            self.tail.next = new_node   # O(1)\n",
    "            self.tail = new_node   # O(1)\n",
    "        self.length += 1   # O(1)\n",
    "# *****************************************************\n",
    "    def prepend(self, value):\n",
    "        new_node = Node(value)   # O(1)\n",
    "        if self.head is None:   # O(1)\n",
    "            self.head = new_node  # O(1)\n",
    "            self.tail = new_node  # O(1)\n",
    "        else: \n",
    "            new_node.next = self.head   # O(1)\n",
    "            self.head = new_node  # O(1)\n",
    "        self.length += 1  # O(1)\n",
    "# *****************************************************\n",
    "        \n",
    "new_linked_list = LinkedList()\n",
    "new_linked_list.prepend(10)\n",
    "new_linked_list.prepend(5)\n",
    "new_linked_list.append(20)\n",
    "new_linked_list.append(30)\n",
    "print(new_linked_list)\n",
    "\n",
    "# Time complexity for append method is O(1)\n",
    "# Space complexity for append method is O(1)"
   ]
  },
  {
   "cell_type": "code",
   "execution_count": 31,
   "metadata": {},
   "outputs": [
    {
     "name": "stdout",
     "output_type": "stream",
     "text": [
      "5 -> 10 -> 20 -> 30\n",
      "5 -> 10 -> 20 -> 50 -> 30\n"
     ]
    }
   ],
   "source": [
    "# inserting an element into a specific location in a singly linked list \n",
    "'''\n",
    "new_node = Node(50)\n",
    "temp_node = self.head\n",
    "for _ in range(index - 1):\n",
    "    temp_node = temp_node.next\n",
    "new_node.next = temp_node.next\n",
    "temp_node.next = new_node\n",
    "'''\n",
    "class LinkedList:\n",
    "    def __init__(self): \n",
    "        self.head = None \n",
    "        self.tail = None \n",
    "        self.length = 0\n",
    "\n",
    "    def __str__(self):\n",
    "        temp_node = self.head\n",
    "        result = ''\n",
    "        while temp_node is not None: \n",
    "            result += str(temp_node.value)\n",
    "            if temp_node.next is not None: \n",
    "                result += ' -> ' \n",
    "            temp_node = temp_node.next\n",
    "        return result\n",
    "\n",
    "    def append(self, value):\n",
    "        new_node = Node(value)  # O(1)\n",
    "        if self.head is None:   # O(1)\n",
    "            self.head = new_node   # O(1)\n",
    "            self.tail = new_node   # O(1)\n",
    "        else: \n",
    "            self.tail.next = new_node   # O(1)\n",
    "            self.tail = new_node   # O(1)\n",
    "        self.length += 1   # O(1)\n",
    "\n",
    "    def prepend(self, value):\n",
    "        new_node = Node(value)   # O(1)\n",
    "        if self.head is None:   # O(1)\n",
    "            self.head = new_node  # O(1)\n",
    "            self.tail = new_node  # O(1)\n",
    "        else: \n",
    "            new_node.next = self.head   # O(1)\n",
    "            self.head = new_node  # O(1)\n",
    "        self.length += 1  # O(1)\n",
    "# *****************************************************\n",
    "    def insert(self, index, value): \n",
    "        new_node = Node(value)   # O(1)\n",
    "        if index < 0 or index > self.length:   # O(1)\n",
    "            return False\n",
    "        if self.length ==0: \n",
    "            self.head = new_node   # O(1)\n",
    "            self.tail = new_node   # O(1)\n",
    "        elif index == 0: \n",
    "            new_node.next = self.head   # O(1)\n",
    "            self.head = new_node\n",
    "        else: \n",
    "            temp_node = self.head   # O(1)\n",
    "            for _ in range(index-1):    # O(n)\n",
    "                temp_node = temp_node.next   # O(1)\n",
    "            new_node.next = temp_node.next\n",
    "            temp_node.next = new_node\n",
    "        self.length  += 1   # O(1)\n",
    "        return True\n",
    "# *****************************************************\n",
    "    \n",
    "        \n",
    "new_linked_list = LinkedList()\n",
    "new_linked_list.prepend(10)\n",
    "new_linked_list.prepend(5)\n",
    "new_linked_list.append(20)\n",
    "new_linked_list.append(30)\n",
    "print(new_linked_list)\n",
    "new_linked_list.insert(3, 50)\n",
    "print(new_linked_list)\n",
    "\n",
    "# Time complexity = O(n)\n",
    "# Space complexity = O(1)"
   ]
  },
  {
   "cell_type": "code",
   "execution_count": null,
   "metadata": {},
   "outputs": [],
   "source": [
    "# traversal of singly linked list\n",
    "\n",
    "def traverse(self): \n",
    "    current = self.head \n",
    "    while current is not None: \n",
    "        print(current.value)\n",
    "        current = current.next"
   ]
  },
  {
   "cell_type": "code",
   "execution_count": null,
   "metadata": {},
   "outputs": [],
   "source": [
    "# search method in singly linked list\n",
    "\n",
    "def search(self, target_value): \n",
    "    current = self.head\n",
    "    while current: \n",
    "        if current.value == target_value: \n",
    "            return True\n",
    "        current = current.next\n",
    "    return False"
   ]
  },
  {
   "cell_type": "code",
   "execution_count": null,
   "metadata": {},
   "outputs": [],
   "source": [
    "#  get method in singly linked list\n",
    "\n",
    "def get(self, index): \n",
    "    current = self.head\n",
    "    for _ in range(index): \n",
    "        current = current.next\n",
    "    return current "
   ]
  },
  {
   "cell_type": "code",
   "execution_count": null,
   "metadata": {},
   "outputs": [],
   "source": [
    "# set method in singly linked list - using get method to obtain node at specified index \n",
    "def set(self, index, value): \n",
    "    temp = self.get(index)\n",
    "    if temp: \n",
    "        temp.value = value\n",
    "        return True \n",
    "    return False "
   ]
  },
  {
   "cell_type": "code",
   "execution_count": null,
   "metadata": {},
   "outputs": [],
   "source": [
    "# pop first method in singly linked list - removes first node from linked list and returns the node \n",
    "\n",
    "# update head to point to the second node and then remove the link between the first and second node \n",
    "\n",
    "def pop_first(self): \n",
    "    popped_node = self.head\n",
    "    self.head = self.head.next\n",
    "    popped_node.next = None \n",
    "    self.length -= 1\n",
    "    return popped_node\n"
   ]
  },
  {
   "cell_type": "code",
   "execution_count": null,
   "metadata": {},
   "outputs": [],
   "source": [
    "# pop method in singly linked list - \n",
    "# need to remove the last node by first pointing the tail to the second to last node and \n",
    "# then remove the link between the second to last node and the last node\n",
    "\n",
    "def pop(self):\n",
    "    popped_node = self.tail\n",
    "    temp = self.head\n",
    "    while temp.next is not self.tail: \n",
    "        temp = temp.next\n",
    "    self.tail = temp\n",
    "    temp.next = None\n",
    "    self.length -= 1\n",
    "    return popped_node"
   ]
  },
  {
   "cell_type": "code",
   "execution_count": null,
   "metadata": {},
   "outputs": [],
   "source": [
    "# remove method in singly linked list - \n",
    "\n",
    "def remove(self, index): \n",
    "    prev_node = self.get(index-1)\n",
    "    popped_node = prev_node.next\n",
    "    prev_node.next = popped_node.next\n",
    "    popped_node.next = None\n",
    "    self.length -= 1\n",
    "    return popped_node"
   ]
  },
  {
   "cell_type": "code",
   "execution_count": null,
   "metadata": {},
   "outputs": [],
   "source": []
  },
  {
   "cell_type": "code",
   "execution_count": null,
   "metadata": {},
   "outputs": [],
   "source": []
  }
 ],
 "metadata": {
  "kernelspec": {
   "display_name": "Python 3",
   "language": "python",
   "name": "python3"
  },
  "language_info": {
   "codemirror_mode": {
    "name": "ipython",
    "version": 3
   },
   "file_extension": ".py",
   "mimetype": "text/x-python",
   "name": "python",
   "nbconvert_exporter": "python",
   "pygments_lexer": "ipython3",
   "version": "3.10.11"
  },
  "orig_nbformat": 4
 },
 "nbformat": 4,
 "nbformat_minor": 2
}

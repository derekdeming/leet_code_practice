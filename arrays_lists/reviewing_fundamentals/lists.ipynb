{
 "cells": [
  {
   "cell_type": "code",
   "execution_count": null,
   "metadata": {},
   "outputs": [],
   "source": [
    "# list is a data structure that holds an ordered collection of items"
   ]
  },
  {
   "cell_type": "code",
   "execution_count": 16,
   "metadata": {},
   "outputs": [
    {
     "name": "stdout",
     "output_type": "stream",
     "text": [
      "sugar\n"
     ]
    }
   ],
   "source": [
    "# accessing and traversing through lists \n",
    "\n",
    "#  bracker: [index]\n",
    "\n",
    "shoppingList = ['milk', 'eggs', 'bread', 'rice', 'sugar']\n",
    "shoppingList[0:2]\n",
    "\n",
    "\n",
    "# for i in shoppingList:\n",
    "#     print(i)\n",
    "\n",
    "# for i in range(len(shoppingList)):\n",
    "#     shoppingList[i] = shoppingList[i] + '++'\n",
    "#     print(shoppingList[i])\n",
    "\n",
    "emptyList = []\n",
    "for i in range(len(shoppingList)):\n",
    "    emptyList.append(shoppingList[i])\n",
    "    print(emptyList[i])\n",
    "    "
   ]
  },
  {
   "cell_type": "code",
   "execution_count": 18,
   "metadata": {},
   "outputs": [
    {
     "name": "stdout",
     "output_type": "stream",
     "text": [
      "[1, 2, 33, 4, 5, 6, 7, 8, 9, 10]\n"
     ]
    }
   ],
   "source": [
    "# update \n",
    "\n",
    "mylist = [1,2,3,4,5,6,7,8,9,10]\n",
    "mylist[2] = 33\n",
    "print(mylist)"
   ]
  },
  {
   "cell_type": "code",
   "execution_count": 21,
   "metadata": {},
   "outputs": [
    {
     "name": "stdout",
     "output_type": "stream",
     "text": [
      "[1, 2, 22, 33, 4, 5, 6, 7, 8, 9, 10, 11, 11, 11]\n",
      "[1, 2, 22, 22, 33, 4, 5, 6, 7, 8, 9, 10, 11, 11, 11]\n",
      "[1, 2, 22, 22, 33, 4, 5, 6, 7, 8, 9, 10, 11, 11, 11, 12, 13, 14]\n"
     ]
    }
   ],
   "source": [
    "# insert a list \n",
    "\n",
    "# insert methods: append(), insert(), extend()\n",
    "\n",
    "# append() adds an item at the end of the list\n",
    "# insert() adds an item at a specified index\n",
    "# extend() adds an iterable to the end of the list\n",
    "\n",
    "mylist.append(11) # O(1)\n",
    "print(mylist)\n",
    "mylist.insert(2, 22)  # O(n)\n",
    "print(mylist)\n",
    "mylist.extend([12,13,14]) # depends on the elements in the list: could be O(n) \n",
    "print(mylist)"
   ]
  },
  {
   "cell_type": "code",
   "execution_count": 26,
   "metadata": {},
   "outputs": [
    {
     "name": "stdout",
     "output_type": "stream",
     "text": [
      "[1, 2, 4, 5, 6, 7, 8, 9, 10]\n",
      "[1, 2, 4, 5, 7, 8, 9, 10]\n",
      "[1, 2, 4, 5, 7, 9, 10]\n"
     ]
    }
   ],
   "source": [
    "# slice / delete from a list\n",
    "\n",
    "myList = [1,2,3,4,5,6,7,8,9,10]\n",
    "myList[2:5] \n",
    "\n",
    "# delete an item from a list\n",
    "#  methods: remove(), pop(), del()\n",
    "\n",
    "myList.remove(3) # O(n)\n",
    "print(myList)\n",
    "\n",
    "myList.pop(4) # O(n)\n",
    "print(myList)\n",
    "\n",
    "del myList[5] # O(n)\n",
    "print(myList)"
   ]
  },
  {
   "cell_type": "code",
   "execution_count": 1,
   "metadata": {},
   "outputs": [],
   "source": [
    "import numpy as np "
   ]
  },
  {
   "cell_type": "code",
   "execution_count": 6,
   "metadata": {},
   "outputs": [
    {
     "name": "stdout",
     "output_type": "stream",
     "text": [
      "\n",
      "Average = 55.2\n",
      "2 days above average\n"
     ]
    }
   ],
   "source": [
    "numDays = int(input(\"How many day's temperature? \"))\n",
    "total = 0 \n",
    "temp = []\n",
    "\n",
    "for i in range(numDays):\n",
    "    nextDay = int(input(\"Day\" + str(i+1) + \"'s high temp: \"))\n",
    "    temp.append(nextDay)\n",
    "    total += temp[i]\n",
    "\n",
    "avg = round(total / numDays, 2)\n",
    "print(\"\\nAverage = \" + str(avg))\n",
    "\n",
    "above = 0 \n",
    "for i in temp: \n",
    "    if i > avg:\n",
    "        above += 1\n",
    "\n",
    "print(str(above) + \" days above average\")"
   ]
  },
  {
   "cell_type": "code",
   "execution_count": 7,
   "metadata": {},
   "outputs": [
    {
     "data": {
      "text/plain": [
       "5"
      ]
     },
     "execution_count": 7,
     "metadata": {},
     "output_type": "execute_result"
    }
   ],
   "source": [
    "#  write a function to find the missing number in a given integer array of 1 to 100\n",
    "def missing_number(arr, n): \n",
    "    numbers = [i for i in range(1, n+1)]\n",
    "    for i in numbers: \n",
    "        if i not in arr: \n",
    "            return i\n",
    "\n",
    "missing_number([1, 2, 3, 4, 6], 6)       "
   ]
  },
  {
   "cell_type": "code",
   "execution_count": 11,
   "metadata": {},
   "outputs": [
    {
     "name": "stdout",
     "output_type": "stream",
     "text": [
      "2 7\n",
      "3 6\n",
      "2 7\n",
      "3 6\n",
      "4 5\n"
     ]
    }
   ],
   "source": [
    "#  write a program to find all pairs of integers whose sum is equal to a given number \n",
    "\n",
    "def pair_sum(arr, num):\n",
    "    for i in range(len(arr)):\n",
    "        for j in range(i+1, len(arr)):\n",
    "            if arr[i] == arr[j]:\n",
    "                continue\n",
    "            elif arr[i] + arr[j] == num: \n",
    "                print(arr[i], arr[j])\n",
    "\n",
    "pair_sum([1, 2, 3, 2, 3, 4, 5, 6, 7, 9], 9)"
   ]
  },
  {
   "cell_type": "code",
   "execution_count": 17,
   "metadata": {},
   "outputs": [
    {
     "name": "stdout",
     "output_type": "stream",
     "text": [
      "[4, 7]\n",
      "Indices of the two numbers are: [4, 7]\n",
      "time complexity: O(n) --  dictionary operations(adding and searching) have an average-case time complexity of O(1)\n"
     ]
    }
   ],
   "source": [
    "#  write a program to find all pairs of integers whose sum is equal to a given number (leetcode)\n",
    "\n",
    "def two_sum(nums, target):\n",
    "    seen = {} \n",
    "\n",
    "    for i, num in enumerate(nums):\n",
    "        complement = target - num\n",
    "\n",
    "        if complement in seen:\n",
    "            print([seen[complement], i])\n",
    "            return [seen[complement], i]\n",
    "        \n",
    "        seen[num] = i\n",
    "\n",
    "nums = [2, 7, 11, 15, 3, 6, 8, 9, 10]\n",
    "target = 12\n",
    "indices = two_sum(nums, target)\n",
    "print(f\"Indices of the two numbers are: {indices}\")\n",
    "print(f\"time complexity: O(n) --  dictionary operations(adding and searching) have an average-case time complexity of O(1)\")\n"
   ]
  },
  {
   "cell_type": "code",
   "execution_count": 18,
   "metadata": {},
   "outputs": [],
   "source": [
    "#  question 3: how to check if an array contains a number in Python"
   ]
  },
  {
   "cell_type": "code",
   "execution_count": 19,
   "metadata": {},
   "outputs": [
    {
     "data": {
      "text/plain": [
       "False"
      ]
     },
     "execution_count": 19,
     "metadata": {},
     "output_type": "execute_result"
    }
   ],
   "source": [
    "myArray = np.array([1, 2, 3, 4, 5, 6, 7, 8, 9, 10, 11, 12, 13, 14, 15, 16, 17, 18, 19, 20])\n",
    "\n",
    "def check_array(arr, num):\n",
    "    for i in arr:\n",
    "        if i == num:\n",
    "            return True\n",
    "    return False\n",
    "\n",
    "check_array(myArray, 21)"
   ]
  },
  {
   "cell_type": "code",
   "execution_count": 23,
   "metadata": {},
   "outputs": [
    {
     "data": {
      "text/plain": [
       "20"
      ]
     },
     "execution_count": 23,
     "metadata": {},
     "output_type": "execute_result"
    }
   ],
   "source": [
    "def findNumber(arr, num): \n",
    "    for i in range(len(arr)): \n",
    "        if arr[i] == num: \n",
    "            return i+1\n",
    "    return \"NO\"\n",
    "\n",
    "findNumber(myArray, 20)"
   ]
  },
  {
   "cell_type": "code",
   "execution_count": 27,
   "metadata": {},
   "outputs": [
    {
     "data": {
      "text/plain": [
       "63"
      ]
     },
     "execution_count": 27,
     "metadata": {},
     "output_type": "execute_result"
    }
   ],
   "source": [
    "# max product of two integers in an array\n",
    "\n",
    "arr = [1, 7, 3, 4, 9, 5]\n",
    "\n",
    "def max_product(arr):\n",
    "    max_product = 0\n",
    "    for i in range(len(arr)):\n",
    "        for j in range(i+1, len(arr)):\n",
    "            if arr[i] * arr[j] > max_product:\n",
    "                max_product = arr[i] * arr[j]\n",
    "    return max_product\n",
    "\n",
    "max_product(arr)"
   ]
  },
  {
   "cell_type": "code",
   "execution_count": 28,
   "metadata": {},
   "outputs": [
    {
     "name": "stdout",
     "output_type": "stream",
     "text": [
      "63\n"
     ]
    }
   ],
   "source": [
    "# max prod of two integers in an array (leetcode)\n",
    "def max_product(arr):\n",
    "    max1, max2 = 0, 0\n",
    "\n",
    "    for num in arr: \n",
    "        if num > max1: \n",
    "            max2 = max1\n",
    "            max1 = num\n",
    "        elif num > max2:\n",
    "            max2 = num\n",
    "    return max1 * max2\n",
    "\n",
    "arr = [1, 7, 3, 4, 9, 5]\n",
    "print(max_product(arr))"
   ]
  },
  {
   "cell_type": "code",
   "execution_count": null,
   "metadata": {},
   "outputs": [],
   "source": []
  }
 ],
 "metadata": {
  "kernelspec": {
   "display_name": "Python 3",
   "language": "python",
   "name": "python3"
  },
  "language_info": {
   "codemirror_mode": {
    "name": "ipython",
    "version": 3
   },
   "file_extension": ".py",
   "mimetype": "text/x-python",
   "name": "python",
   "nbconvert_exporter": "python",
   "pygments_lexer": "ipython3",
   "version": "3.10.11"
  },
  "orig_nbformat": 4
 },
 "nbformat": 4,
 "nbformat_minor": 2
}

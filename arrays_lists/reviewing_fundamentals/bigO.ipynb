{
 "cells": [
  {
   "cell_type": "code",
   "execution_count": 1,
   "metadata": {},
   "outputs": [
    {
     "name": "stdout",
     "output_type": "stream",
     "text": [
      "0\n",
      "1\n",
      "2\n",
      "3\n",
      "4\n"
     ]
    }
   ],
   "source": [
    "# O(n) - linear time complexity - the number of operations is proportional to the size of the input\n",
    "\n",
    "def print_items(n): \n",
    "    for i in range(n):\n",
    "        print(i)\n",
    "\n",
    "print_items(5)"
   ]
  },
  {
   "cell_type": "code",
   "execution_count": 8,
   "metadata": {},
   "outputs": [
    {
     "name": "stdout",
     "output_type": "stream",
     "text": [
      "12\n"
     ]
    }
   ],
   "source": [
    "#  O(n) example \n",
    "\n",
    "def findBiggestNumber(sampleArray):\n",
    "    biggestNumber = sampleArray[0] # O(1)\n",
    "    for i in range(len(sampleArray)): # O(n)\n",
    "        if sampleArray[i] > biggestNumber: # O(1)\n",
    "            biggestNumber = sampleArray[i] # O(1)\n",
    "    print(biggestNumber) # O(1)\n",
    "\n",
    "findBiggestNumber([1,2,3,4,12,6,7,8,9,10]) # O(n)"
   ]
  },
  {
   "cell_type": "code",
   "execution_count": 3,
   "metadata": {},
   "outputs": [
    {
     "name": "stdout",
     "output_type": "stream",
     "text": [
      "0 0\n",
      "0 1\n",
      "0 2\n",
      "0 3\n",
      "0 4\n",
      "1 0\n",
      "1 1\n",
      "1 2\n",
      "1 3\n",
      "1 4\n",
      "2 0\n",
      "2 1\n",
      "2 2\n",
      "2 3\n",
      "2 4\n",
      "3 0\n",
      "3 1\n",
      "3 2\n",
      "3 3\n",
      "3 4\n",
      "4 0\n",
      "4 1\n",
      "4 2\n",
      "4 3\n",
      "4 4\n"
     ]
    }
   ],
   "source": [
    "# O(n^2) - quadratic time complexity - the number of operations is proportional to the square of the size of the input\n",
    "# nested loops are a good sign of quadratic time complexity\n",
    "#  as number of elements increases, the number of operations increases quadratically\n",
    "def print_items(n): \n",
    "    for i in range(n):\n",
    "        for j in range(n):\n",
    "            print(i,j)\n",
    "print_items(5)"
   ]
  },
  {
   "cell_type": "code",
   "execution_count": 5,
   "metadata": {},
   "outputs": [
    {
     "name": "stdout",
     "output_type": "stream",
     "text": [
      "7\n"
     ]
    }
   ],
   "source": [
    "# O(log n) - logarithmic time complexity - the number of operations is proportional to the log of the size of the input\n",
    "# as number of elements increases, the number of operations increases logarithmically\n",
    "# split the input in half each time, and only take one half to work with each time \n",
    "# example: binary search\n",
    "\n",
    "def binary_search(data, value):\n",
    "    n = len(data)\n",
    "    left = 0\n",
    "    right = n - 1\n",
    "    while left <= right:\n",
    "        middle = (left + right) // 2\n",
    "        if value < data[middle]:\n",
    "            right = middle - 1\n",
    "        elif value > data[middle]:\n",
    "            left = middle + 1\n",
    "        else:\n",
    "            return middle\n",
    "    raise ValueError('Value is not in the list')\n",
    "    \n",
    "if __name__ == '__main__':\n",
    "    data = [1, 2, 3, 4, 5, 6, 7, 8, 9]\n",
    "    print(binary_search(data, 8))\n",
    "\n",
    "\n",
    "# Steps of the binary search:\n",
    "\n",
    "# Calculate the middle of the list.\n",
    "# If the searched value is lower than the value in the middle of the list, set a new right bounder.\n",
    "# If the searched value is higher than the value in the middle of the list, set a new left bounder.\n",
    "# If the search value is equal to the value in the middle of the list, return the middle (the index).\n",
    "# Repeat the steps above until the value is found or the left bounder is equal or higher the right bounder."
   ]
  },
  {
   "cell_type": "code",
   "execution_count": 9,
   "metadata": {},
   "outputs": [
    {
     "name": "stdout",
     "output_type": "stream",
     "text": [
      "1023\n"
     ]
    }
   ],
   "source": [
    "# O(logn)) example\n",
    "\n",
    "def _(n):\n",
    "    sum = 0\n",
    "    i = 1 \n",
    "    while i < n:\n",
    "        sum += i\n",
    "        i *= 2\n",
    "    return sum\n",
    "\n",
    "print(_(1000))"
   ]
  },
  {
   "cell_type": "code",
   "execution_count": 13,
   "metadata": {},
   "outputs": [
    {
     "name": "stdout",
     "output_type": "stream",
     "text": [
      "450\n"
     ]
    }
   ],
   "source": [
    "# O(n * m) example \n",
    "# The outer loop iterates 'n' times, and the inner loop iterates 'm' times.\n",
    "\n",
    "n = 10\n",
    "m = 5\n",
    "sum = 0 \n",
    "for i in range(n):\n",
    "    for j in range(m):\n",
    "        sum += i * j\n",
    "print(sum)"
   ]
  },
  {
   "cell_type": "code",
   "execution_count": 6,
   "metadata": {},
   "outputs": [
    {
     "data": {
      "text/plain": [
       "25"
      ]
     },
     "execution_count": 6,
     "metadata": {},
     "output_type": "execute_result"
    }
   ],
   "source": [
    "#  space complexity - how much memory is used by the algorithm\n",
    "\n",
    "# O(1) - constant space complexity - the amount of memory used by the algorithm \n",
    "# does not increase with the size of the input data\n",
    "\n",
    "def pair_sum_sequence(n):\n",
    "    total = 0\n",
    "    for i in range(n):\n",
    "        total += pair_sum(i, i + 1)\n",
    "    return total\n",
    "\n",
    "def pair_sum(a, b):\n",
    "    return a + b\n",
    "\n",
    "pair_sum_sequence(5)"
   ]
  },
  {
   "cell_type": "code",
   "execution_count": null,
   "metadata": {},
   "outputs": [],
   "source": [
    "#  different time terms for input - add vs multiply\n",
    "\n",
    "# if your algorithm is in the form \"do this, then, when you're all done, do that\", then your runtime is probably additive\n",
    "# Add the run times: O(a + b)\n",
    "def print_items(a,b):\n",
    "    for i in range(a):\n",
    "        print(i)\n",
    "    for j in range(b):\n",
    "        print(j)\n",
    "\n",
    "# if your algorithm is in the form \"do this for each time you do that, then your runtime is probably multiplicative\"\n",
    "# Multiply the run times: O(a * b)\n",
    "def print_items(a,b):\n",
    "    for i in range(a):\n",
    "        for j in range(b):\n",
    "            print(i, j)"
   ]
  }
 ],
 "metadata": {
  "kernelspec": {
   "display_name": "Python 3",
   "language": "python",
   "name": "python3"
  },
  "language_info": {
   "codemirror_mode": {
    "name": "ipython",
    "version": 3
   },
   "file_extension": ".py",
   "mimetype": "text/x-python",
   "name": "python",
   "nbconvert_exporter": "python",
   "pygments_lexer": "ipython3",
   "version": "3.10.11"
  },
  "orig_nbformat": 4
 },
 "nbformat": 4,
 "nbformat_minor": 2
}

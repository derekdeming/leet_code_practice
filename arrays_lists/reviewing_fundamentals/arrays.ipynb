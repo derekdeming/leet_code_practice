{
 "cells": [
  {
   "cell_type": "code",
   "execution_count": null,
   "metadata": {},
   "outputs": [],
   "source": [
    "#  numpy array module is used for creating arrays\n",
    "#  numpy arrays are faster than python lists\n",
    "\n",
    "# properties of arrays\n",
    "# 1. all elements of numpy array must be of same type\n",
    "# 2. elements of an array are located at contiguous memory locations\n",
    "# 3. each element of an array can be accessed by its index\n",
    "\n",
    "# types of arrays\n",
    "# 1. 1D array\n",
    "#    - an array with a bunch of values having been declared in a single index\n",
    "#    - to access an element of a 1D array, we use its index: arr[0]  \n",
    "# 2. multi-dimensional array\n",
    "#    - an array with a bunch of values having been declared in multiple indexes\n",
    "#    - to access an element of a multi-dimensional array, we use its index: arr[0][0]\n"
   ]
  },
  {
   "cell_type": "code",
   "execution_count": 29,
   "metadata": {},
   "outputs": [],
   "source": [
    "from array import * \n",
    "import numpy as np\n"
   ]
  },
  {
   "cell_type": "code",
   "execution_count": 15,
   "metadata": {},
   "outputs": [
    {
     "name": "stdout",
     "output_type": "stream",
     "text": [
      "array('i', [1, 2, 3, 4, 5])\n"
     ]
    }
   ],
   "source": [
    "my_array = array.array('i', [1, 2, 3, 4, 5]) # i is the typecode for integer (O(1) time complexity)\n",
    "print(my_array)"
   ]
  },
  {
   "cell_type": "code",
   "execution_count": 11,
   "metadata": {},
   "outputs": [
    {
     "name": "stdout",
     "output_type": "stream",
     "text": [
      "[1 2 3 4 5]\n"
     ]
    }
   ],
   "source": [
    "np_array = np.array([1, 2, 3, 4, 5])  # O(N) time complexity, space complexity is O(N)\n",
    "print(np_array)"
   ]
  },
  {
   "cell_type": "code",
   "execution_count": 12,
   "metadata": {},
   "outputs": [],
   "source": [
    "# insertion to an array\n",
    "# 1. insert at the beginning of an array\n",
    "# 2. insert at the end of an array\n",
    "# 3. insert at a given index of an array\n",
    "\n"
   ]
  },
  {
   "cell_type": "code",
   "execution_count": 27,
   "metadata": {},
   "outputs": [
    {
     "name": "stdout",
     "output_type": "stream",
     "text": [
      "array('i', [7, 1, 2, 3, 4, 5])\n"
     ]
    }
   ],
   "source": [
    "# 1. insert at the beginning of an array\n",
    "#    - we need to shift all the elements of the array to the right by one index\n",
    "#    - we need to increase the size of the array by one\n",
    "#    - we need to insert the new element at the beginning of the array\n",
    "#    - time complexity: O(N)\n",
    "#    - space complexity: O(1)\n",
    "#    - we can use the insert() method of the array module\n",
    "#    - we can use the insert() method of the numpy module\n",
    "my_array.insert(0, 7)\n",
    "print(my_array)"
   ]
  },
  {
   "cell_type": "code",
   "execution_count": 17,
   "metadata": {},
   "outputs": [
    {
     "name": "stdout",
     "output_type": "stream",
     "text": [
      "7\n",
      "1\n",
      "2\n",
      "3\n",
      "4\n",
      "5\n"
     ]
    }
   ],
   "source": [
    "# array traversal \n",
    "# 1. traversal using for loop\n",
    "# 2. traversal using while loop\n",
    "#  time complexity: O(N)\n",
    "#  space complexity: O(1)\n",
    "\n",
    "def traverse_array(arr):\n",
    "    for i in arr:\n",
    "        print(i)\n",
    "\n",
    "traverse_array(my_array)"
   ]
  },
  {
   "cell_type": "code",
   "execution_count": 21,
   "metadata": {},
   "outputs": [
    {
     "name": "stdout",
     "output_type": "stream",
     "text": [
      "index is out of bounds\n",
      "7\n"
     ]
    }
   ],
   "source": [
    "#  access array elements\n",
    "#  1. access an element at a given index\n",
    "#  time complexity: O(1)\n",
    "#  space complexity: O(1)\n",
    "\n",
    "def accessElement(array, index):\n",
    "    if index >= len(array):\n",
    "        print(\"index is out of bounds\")\n",
    "    else:\n",
    "        print(array[index])\n",
    "\n",
    "accessElement(my_array, 6)\n",
    "accessElement(my_array, 0)"
   ]
  },
  {
   "cell_type": "code",
   "execution_count": 24,
   "metadata": {},
   "outputs": [
    {
     "name": "stdout",
     "output_type": "stream",
     "text": [
      "-1\n",
      "0\n"
     ]
    }
   ],
   "source": [
    "# searching for an element in an array\n",
    "\n",
    "# 1. linear search\n",
    "#    - we traverse the array from left to right and compare each element with the given element\n",
    "#    - if the element is found, we return the index of the element\n",
    "#    - if the element is not found, we return some indicative message that element was not found: -1\n",
    "\n",
    "#  time complexity: O(N)\n",
    "#  space complexity: O(1)\n",
    "\n",
    "def linear_search(arr, element):\n",
    "    for i in range(len(arr)):\n",
    "        if arr[i] == element:\n",
    "            return i\n",
    "    return -1\n",
    "\n",
    "print(linear_search(my_array, 8))\n",
    "print(linear_search(my_array, 7))\n"
   ]
  },
  {
   "cell_type": "code",
   "execution_count": 28,
   "metadata": {},
   "outputs": [
    {
     "name": "stdout",
     "output_type": "stream",
     "text": [
      "array('i', [1, 2, 3, 4, 5])\n"
     ]
    }
   ],
   "source": [
    "#  deletion from an array\n",
    "#  1. delete from the beginning of an array\n",
    "#  2. delete from the end of an array\n",
    "#  3. delete from a given index of an array\n",
    "\n",
    "# time complexity: O(N)\n",
    "# space complexity: O(1)\n",
    "\n",
    "my_array.remove(7)\n",
    "print(my_array)"
   ]
  },
  {
   "cell_type": "code",
   "execution_count": 40,
   "metadata": {},
   "outputs": [
    {
     "name": "stdout",
     "output_type": "stream",
     "text": [
      "1\n",
      "2\n",
      "3\n",
      "4\n",
      "5\n"
     ]
    }
   ],
   "source": [
    "my_array = array('i', [1, 2, 3, 4, 5])\n",
    "\n",
    "for i in my_array:\n",
    "    print(i)"
   ]
  },
  {
   "cell_type": "code",
   "execution_count": 41,
   "metadata": {},
   "outputs": [
    {
     "data": {
      "text/plain": [
       "5"
      ]
     },
     "execution_count": 41,
     "metadata": {},
     "output_type": "execute_result"
    }
   ],
   "source": [
    "my_array[4]"
   ]
  },
  {
   "cell_type": "code",
   "execution_count": 42,
   "metadata": {},
   "outputs": [
    {
     "data": {
      "text/plain": [
       "array('i', [1, 2, 3, 4, 5, 6])"
      ]
     },
     "execution_count": 42,
     "metadata": {},
     "output_type": "execute_result"
    }
   ],
   "source": [
    "my_array.append(6)\n",
    "my_array\n"
   ]
  },
  {
   "cell_type": "code",
   "execution_count": 43,
   "metadata": {},
   "outputs": [
    {
     "data": {
      "text/plain": [
       "array('i', [1, 2, 3, 4, 5, 6, 7])"
      ]
     },
     "execution_count": 43,
     "metadata": {},
     "output_type": "execute_result"
    }
   ],
   "source": [
    "my_array.insert(6, 7)\n",
    "my_array"
   ]
  },
  {
   "cell_type": "code",
   "execution_count": 44,
   "metadata": {},
   "outputs": [
    {
     "data": {
      "text/plain": [
       "array('i', [1, 2, 3, 4, 5, 6, 7, 10, 11, 12, 13, 14])"
      ]
     },
     "execution_count": 44,
     "metadata": {},
     "output_type": "execute_result"
    }
   ],
   "source": [
    "my_array1 = array('i', [10, 11, 12, 13, 14])\n",
    "my_array.extend(my_array1)\n",
    "my_array"
   ]
  },
  {
   "cell_type": "code",
   "execution_count": 45,
   "metadata": {},
   "outputs": [
    {
     "data": {
      "text/plain": [
       "array('i', [1, 2, 3, 4, 5, 6, 7, 10, 11, 12, 13, 14, 20, 21, 22])"
      ]
     },
     "execution_count": 45,
     "metadata": {},
     "output_type": "execute_result"
    }
   ],
   "source": [
    "templist = [20, 21, 22]\n",
    "my_array.fromlist(templist)\n",
    "my_array"
   ]
  },
  {
   "cell_type": "code",
   "execution_count": 46,
   "metadata": {},
   "outputs": [
    {
     "data": {
      "text/plain": [
       "array('i', [1, 2, 3, 4, 5, 6, 7, 10, 11, 12, 13, 14, 20, 21])"
      ]
     },
     "execution_count": 46,
     "metadata": {},
     "output_type": "execute_result"
    }
   ],
   "source": [
    "my_array.pop()\n",
    "my_array"
   ]
  },
  {
   "cell_type": "code",
   "execution_count": 47,
   "metadata": {},
   "outputs": [
    {
     "data": {
      "text/plain": [
       "8"
      ]
     },
     "execution_count": 47,
     "metadata": {},
     "output_type": "execute_result"
    }
   ],
   "source": [
    "my_array.index(11)"
   ]
  },
  {
   "cell_type": "code",
   "execution_count": 48,
   "metadata": {},
   "outputs": [
    {
     "data": {
      "text/plain": [
       "array('i', [21, 20, 14, 13, 12, 11, 10, 7, 6, 5, 4, 3, 2, 1])"
      ]
     },
     "execution_count": 48,
     "metadata": {},
     "output_type": "execute_result"
    }
   ],
   "source": [
    "my_array.reverse()\n",
    "my_array"
   ]
  },
  {
   "cell_type": "code",
   "execution_count": 50,
   "metadata": {},
   "outputs": [
    {
     "data": {
      "text/plain": [
       "(1331784577264, 14)"
      ]
     },
     "execution_count": 50,
     "metadata": {},
     "output_type": "execute_result"
    }
   ],
   "source": [
    "my_array.buffer_info()\n"
   ]
  },
  {
   "cell_type": "code",
   "execution_count": 51,
   "metadata": {},
   "outputs": [
    {
     "data": {
      "text/plain": [
       "1"
      ]
     },
     "execution_count": 51,
     "metadata": {},
     "output_type": "execute_result"
    }
   ],
   "source": [
    "my_array.count(11)"
   ]
  },
  {
   "cell_type": "code",
   "execution_count": 56,
   "metadata": {},
   "outputs": [
    {
     "data": {
      "text/plain": [
       "array([[11, 15, 10,  6],\n",
       "       [10, 14, 11,  5],\n",
       "       [12, 17, 12,  8],\n",
       "       [15, 18, 14,  9]])"
      ]
     },
     "execution_count": 56,
     "metadata": {},
     "output_type": "execute_result"
    }
   ],
   "source": [
    "twoD_array = np.array([[11, 15, 10, 6], [10, 14, 11, 5], [12, 17, 12, 8], [15, 18, 14, 9],])\n",
    "twoD_array"
   ]
  },
  {
   "cell_type": "code",
   "execution_count": 73,
   "metadata": {},
   "outputs": [
    {
     "data": {
      "text/plain": [
       "array([[ 1,  2,  3,  4],\n",
       "       [ 1,  2,  3,  4],\n",
       "       [11, 15, 10,  6],\n",
       "       [10, 14, 11,  5],\n",
       "       [12, 17, 12,  8],\n",
       "       [15, 18, 14,  9]])"
      ]
     },
     "execution_count": 73,
     "metadata": {},
     "output_type": "execute_result"
    }
   ],
   "source": [
    "#  insertion - two dimensional array\n",
    "#  1. insert at the beginning of a two dimensional array\n",
    "\n",
    "#  time complexity: O(mn)\n",
    "\n",
    "new_twoD_array = twoD_array = np.insert(twoD_array, 0, [[1, 2, 3, 4]], axis=0)\n",
    "new_twoD_array"
   ]
  },
  {
   "cell_type": "code",
   "execution_count": 72,
   "metadata": {},
   "outputs": [
    {
     "data": {
      "text/plain": [
       "array([[ 1,  2,  3,  4],\n",
       "       [11, 15, 10,  6],\n",
       "       [10, 14, 11,  5],\n",
       "       [12, 17, 12,  8],\n",
       "       [15, 18, 14,  9],\n",
       "       [ 1,  2,  3,  4]])"
      ]
     },
     "execution_count": 72,
     "metadata": {},
     "output_type": "execute_result"
    }
   ],
   "source": [
    "twoD_array2 = np.append(twoD_array, [[1, 2, 3, 4]], axis=0)\n",
    "twoD_array2"
   ]
  },
  {
   "cell_type": "code",
   "execution_count": 74,
   "metadata": {},
   "outputs": [
    {
     "name": "stdout",
     "output_type": "stream",
     "text": [
      "3\n"
     ]
    }
   ],
   "source": [
    "# access elements of a two dimensional array\n",
    "\n",
    "# a[i]][j] - i is the row and j is the column index \n",
    "\n",
    "def accessElement1(array, rowIndex, colIndex): \n",
    "    if rowIndex >= len(array) or colIndex >= len(array[0]):\n",
    "        print(\"index is out of bounds\")\n",
    "    else:\n",
    "        print(array[rowIndex][colIndex])\n",
    "\n",
    "accessElement1(twoD_array, 1, 2)"
   ]
  },
  {
   "cell_type": "code",
   "execution_count": 75,
   "metadata": {},
   "outputs": [
    {
     "data": {
      "text/plain": [
       "array([[ 1,  2,  3,  4],\n",
       "       [ 1,  2,  3,  4],\n",
       "       [11, 15, 10,  6],\n",
       "       [10, 14, 11,  5],\n",
       "       [12, 17, 12,  8],\n",
       "       [15, 18, 14,  9]])"
      ]
     },
     "execution_count": 75,
     "metadata": {},
     "output_type": "execute_result"
    }
   ],
   "source": [
    "twoD_array"
   ]
  },
  {
   "cell_type": "code",
   "execution_count": 81,
   "metadata": {},
   "outputs": [
    {
     "name": "stdout",
     "output_type": "stream",
     "text": [
      "1\n",
      "2\n",
      "3\n",
      "4\n",
      "1\n",
      "2\n",
      "3\n",
      "4\n",
      "11\n",
      "15\n",
      "10\n",
      "6\n",
      "10\n",
      "14\n",
      "11\n",
      "5\n",
      "12\n",
      "17\n",
      "12\n",
      "8\n",
      "15\n",
      "18\n",
      "14\n",
      "9\n"
     ]
    }
   ],
   "source": [
    "#  traversal of a two dimensional array\n",
    "\n",
    "#  time complexity: O(n^2)\n",
    "#  space complexity: O(1)\n",
    "\n",
    "def traverse2DArray(array):\n",
    "    for i in range(len(array)):\n",
    "        for j in range(len(array[i])):\n",
    "            print(array[i][j])\n",
    "\n",
    "traverse2DArray(twoD_array)"
   ]
  },
  {
   "cell_type": "code",
   "execution_count": 82,
   "metadata": {},
   "outputs": [
    {
     "data": {
      "text/plain": [
       "[2, 2]"
      ]
     },
     "execution_count": 82,
     "metadata": {},
     "output_type": "execute_result"
    }
   ],
   "source": [
    "# searching for an element in a two dimensional array \n",
    "\n",
    "#  time complexity: O(n^2)\n",
    "#  space complexity: O(1)\n",
    "\n",
    "def search2DArray(array, element):\n",
    "    for i in range(len(array)):\n",
    "        for j in range(len(array[i])):\n",
    "            if array[i][j] == element:\n",
    "                return [i, j]\n",
    "    return \"element not found\"\n",
    "\n",
    "search2DArray(twoD_array, 10)"
   ]
  },
  {
   "cell_type": "code",
   "execution_count": 83,
   "metadata": {},
   "outputs": [
    {
     "data": {
      "text/plain": [
       "array([[ 1,  2,  3,  4],\n",
       "       [11, 15, 10,  6],\n",
       "       [10, 14, 11,  5],\n",
       "       [12, 17, 12,  8],\n",
       "       [15, 18, 14,  9]])"
      ]
     },
     "execution_count": 83,
     "metadata": {},
     "output_type": "execute_result"
    }
   ],
   "source": [
    "# deletion from a two dimensional array\n",
    "\n",
    "#  time complexity: O(mn)\n",
    "#  space complexity: O(mn)\n",
    "\n",
    "new_twoD_array = np.delete(twoD_array, 0, axis=0)\n",
    "new_twoD_array"
   ]
  },
  {
   "cell_type": "code",
   "execution_count": null,
   "metadata": {},
   "outputs": [],
   "source": [
    "# when to use / avoid arrays\n",
    "\n",
    "# use: \n",
    "# - to store multiple variables of same type\n",
    "# - random access \n",
    "\n",
    "# not use:\n",
    "# - same data type elements \n",
    "# - reserve memory "
   ]
  }
 ],
 "metadata": {
  "kernelspec": {
   "display_name": "Python 3",
   "language": "python",
   "name": "python3"
  },
  "language_info": {
   "codemirror_mode": {
    "name": "ipython",
    "version": 3
   },
   "file_extension": ".py",
   "mimetype": "text/x-python",
   "name": "python",
   "nbconvert_exporter": "python",
   "pygments_lexer": "ipython3",
   "version": "3.10.11"
  },
  "orig_nbformat": 4
 },
 "nbformat": 4,
 "nbformat_minor": 2
}
